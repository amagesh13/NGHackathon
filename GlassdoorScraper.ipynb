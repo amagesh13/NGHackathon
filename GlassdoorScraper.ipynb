{
 "cells": [
  {
   "cell_type": "markdown",
   "id": "86c307d3-7dea-4fe4-ac13-d6c29f3d8461",
   "metadata": {},
   "source": [
    "<h1>Northrop Grumman Hackathon<h1>"
   ]
  },
  {
   "cell_type": "markdown",
   "id": "658bdc3e-f7de-4aa5-92aa-46dd4f06c6b0",
   "metadata": {},
   "source": [
    "<p>This file scrapes the top 30 job listings for a given search result (which is currently just 'internships') on Glassdoor and returns the company name, position, location, and salary for each job listing in the form of arrays.<p>"
   ]
  },
  {
   "cell_type": "code",
   "execution_count": 1,
   "id": "cb654a82-a244-44d7-8894-650f808a29f8",
   "metadata": {},
   "outputs": [],
   "source": [
    "import requests\n",
    "from bs4 import BeautifulSoup as soup"
   ]
  },
  {
   "cell_type": "code",
   "execution_count": 2,
   "id": "79b1cd83-1bf5-4b48-9b2f-ef8f7600ec60",
   "metadata": {},
   "outputs": [
    {
     "data": {
      "text/plain": [
       "200"
      ]
     },
     "execution_count": 2,
     "metadata": {},
     "output_type": "execute_result"
    }
   ],
   "source": [
    "headers = {'User-Agent': 'Mozilla/5.0 (iPad; U; CPU OS 3_2_1 like Mac OS X; en-us) AppleWebKit/531.21.10 (KHTML, like Gecko) Mobile/7B405',\n",
    "           'From': 'pleaseletmein@gmail.com'\n",
    "}\n",
    "\n",
    "url = \"https://www.glassdoor.com/Job/internships-jobs-SRCH_KO0,11.htm\"\n",
    "\n",
    "html = requests.get(url, headers=headers)\n",
    "html.status_code"
   ]
  },
  {
   "cell_type": "code",
   "execution_count": 3,
   "id": "47597412-c956-4b6a-ab1c-937bafa83caa",
   "metadata": {
    "tags": []
   },
   "outputs": [],
   "source": [
    "bsoup = soup(html.content, 'html.parser')"
   ]
  },
  {
   "cell_type": "code",
   "execution_count": 4,
   "id": "d5b77a45-a394-40c2-8dbc-78bafcf17ecc",
   "metadata": {},
   "outputs": [
    {
     "data": {
      "text/plain": [
       "['The Pizzo Group for Pizzo Native Plant Nursery',\n",
       " 'LIFE Northwestern Pennsylvania, LLC',\n",
       " 'The Wills Group | Dash In',\n",
       " 'Pine Forest Camp',\n",
       " 'Sorge Funeral Home & Crematory Inc.',\n",
       " 'Charter Manufacturing',\n",
       " 'Lockwood Management LLC',\n",
       " 'Simmons Prepared Foods Inc',\n",
       " 'Artisan’s Rejuvenation Med Spa',\n",
       " 'CEMEX',\n",
       " 'Galapagos Rockford Charter School',\n",
       " 'LINX Camps',\n",
       " 'Barrett Paving Materials Inc.',\n",
       " 'Allora Solutions Group, LLC',\n",
       " 'SOPREMA',\n",
       " 'Waterfront Restoration, LLC',\n",
       " 'DC',\n",
       " 'Crown Awards',\n",
       " 'Heartland AG Systems',\n",
       " 'Nodak Insurance Company',\n",
       " 'Crystal Valley',\n",
       " \"Georgia O'Keeffe Museum\",\n",
       " 'Agilent Technologies Inc.',\n",
       " 'Pine Forest Camp',\n",
       " 'Ryan, Hodgins & Associates CPAs',\n",
       " 'Shelter Insurance',\n",
       " 'Heartland AG Systems',\n",
       " 'Tranco Global Llc',\n",
       " 'CAR-FRESHNER Corporation',\n",
       " 'Six Flags / Hurricane Harbor']"
      ]
     },
     "execution_count": 4,
     "metadata": {},
     "output_type": "execute_result"
    }
   ],
   "source": [
    "company_name = []\n",
    "for company in bsoup.findAll('div', {'class': 'd-flex justify-content-between align-items-start'}):\n",
    "    company_name.append(company.span.text.strip())\n",
    "    \n",
    "company_name"
   ]
  },
  {
   "cell_type": "code",
   "execution_count": 5,
   "id": "39e78001-9f90-4b6a-bd11-acd39778adec",
   "metadata": {},
   "outputs": [
    {
     "data": {
      "text/plain": [
       "['Native Nursery Internship',\n",
       " 'Human Resources Intern',\n",
       " 'Rising Talent Internship - Summer 2023',\n",
       " 'Summer Camp Nanny',\n",
       " 'Funeral Director/Intern',\n",
       " 'Safety Intern (Year-Round)',\n",
       " 'Construction Intern',\n",
       " 'Intern (Accounting) - Spring Semester',\n",
       " '(Entry level/Intern) Med Spa Receptionist/Marketing Assistant or CMA, CNA',\n",
       " 'Intern Ready Mix',\n",
       " 'Summer Teaching Fellows',\n",
       " 'Summer Camp Jobs at LINX Camps (Over 40 different types of jobs!)',\n",
       " 'EHS Intern',\n",
       " 'Legal Assistant/Paralegal Intern',\n",
       " 'R&D Intern',\n",
       " 'Operations Internship - Dive Crew',\n",
       " 'Bookkeeper/Administrative Assistant - Cannabis Industry - Internship',\n",
       " 'Paid Internship Opportunities-Senior level students and Recent Grads!',\n",
       " 'Accounting and Finance Intern',\n",
       " 'Actuarial Intern',\n",
       " 'Sales Agronomist Internship',\n",
       " 'Art & Social Practice Internship',\n",
       " 'Operations Intern',\n",
       " 'Summer Camp Nutrition Specialist',\n",
       " 'Staff Accountant Intern',\n",
       " 'Diversity Intern - Springfield MO Claims',\n",
       " 'Parts Technician Intern',\n",
       " 'Accounting Intern',\n",
       " 'Domestic Sales Intern',\n",
       " 'Loss Prevention Intern']"
      ]
     },
     "execution_count": 5,
     "metadata": {},
     "output_type": "execute_result"
    }
   ],
   "source": [
    "position_name = []\n",
    "for position in bsoup.findAll('div', {'class': 'd-flex flex-column pl-sm css-3g3psg css-1of6cnp e1rrn5ka4'}):\n",
    "    position_name.append(position.findAll('a')[1].text.strip())\n",
    "    \n",
    "position_name"
   ]
  },
  {
   "cell_type": "code",
   "execution_count": 6,
   "id": "8574d934-f612-4725-91c8-12453c8ec94b",
   "metadata": {},
   "outputs": [
    {
     "data": {
      "text/plain": [
       "['Leland, IL',\n",
       " 'Erie, PA',\n",
       " 'La Plata, MD',\n",
       " 'Greeley, PA',\n",
       " 'Hollidaysburg, PA',\n",
       " 'Saukville, WI',\n",
       " 'Southfield, MI',\n",
       " 'Dubuque, IA',\n",
       " 'College Station, TX',\n",
       " 'Livermore, CA',\n",
       " 'Rockford, IL',\n",
       " 'Wellesley, MA',\n",
       " 'Syracuse, NY',\n",
       " 'Charleston, SC',\n",
       " 'Wadsworth, OH',\n",
       " 'Long Lake, MN',\n",
       " 'Denver, CO',\n",
       " 'Hawthorne, NY',\n",
       " 'Hutchinson, MN',\n",
       " 'Fargo, ND',\n",
       " 'Darfur, MN',\n",
       " 'Santa Fe, NM',\n",
       " 'Boulder, CO',\n",
       " 'Greeley, PA',\n",
       " 'Eden Prairie, MN',\n",
       " 'Springfield, MO',\n",
       " 'Grand Island, NE',\n",
       " 'Chattanooga, TN',\n",
       " 'Watertown, NY',\n",
       " 'Gurnee, IL']"
      ]
     },
     "execution_count": 6,
     "metadata": {},
     "output_type": "execute_result"
    }
   ],
   "source": [
    "location_name = []\n",
    "for location in bsoup.findAll('div', {'class':'d-flex flex-wrap css-11d3uq0 e1rrn5ka2'}):\n",
    "    location_name.append(location.span.text.strip())\n",
    "    \n",
    "location_name"
   ]
  },
  {
   "cell_type": "code",
   "execution_count": 7,
   "id": "907d5831-6614-4914-89ba-22b8b45bfb52",
   "metadata": {},
   "outputs": [
    {
     "data": {
      "text/plain": [
       "['$15.00 Per Hour(Employer est.)',\n",
       " '$17.00 Per Hour(Employer est.)',\n",
       " '$2K - $3K (Employer est.)',\n",
       " '$32K - $68K (Employer est.)',\n",
       " '$31K - $45K (Glassdoor est.)',\n",
       " '$29K - $41K (Glassdoor est.)',\n",
       " '$12.00 - $17.00 Per Hour(Employer est.)',\n",
       " '$20.00 - $25.00 Per Hour(Employer est.)',\n",
       " '$24K - $34K (Glassdoor est.)',\n",
       " '$15.25 - $25.00 Per Hour(Employer est.)',\n",
       " '$20.00 Per Hour(Employer est.)',\n",
       " '$34K - $49K (Glassdoor est.)',\n",
       " '$33K - $53K (Glassdoor est.)',\n",
       " '$15.00 - $20.00 Per Hour(Employer est.)',\n",
       " '$17.30 - $22.00 Per Hour(Employer est.)',\n",
       " '$38K - $49K (Glassdoor est.)',\n",
       " '$16.00 Per Hour(Employer est.)',\n",
       " '$14.00 - $16.00 Per Hour(Employer est.)',\n",
       " '$14.00 Per Hour(Employer est.)',\n",
       " '$47K - $68K (Glassdoor est.)',\n",
       " '$15.00 - $17.50 Per Hour(Employer est.)',\n",
       " '$15.00 Per Hour(Employer est.)',\n",
       " '$32K - $41K (Glassdoor est.)',\n",
       " '$12.00 Per Hour(Employer est.)',\n",
       " '$31K - $38K (Glassdoor est.)']"
      ]
     },
     "execution_count": 7,
     "metadata": {},
     "output_type": "execute_result"
    }
   ],
   "source": [
    "salaries = []\n",
    "for salary in bsoup.findAll('div', {'class':'d-flex flex-wrap css-1i7b5bu e1rrn5ka1'}):\n",
    "    salaries.append(salary.find('div',{'class':'css-3g3psg pr-xxsm'}).span.text.strip())\n",
    "    \n",
    "salaries"
   ]
  },
  {
   "cell_type": "code",
   "execution_count": null,
   "id": "0f3bb0ac-03ed-458f-83b8-5eb7793e726f",
   "metadata": {},
   "outputs": [],
   "source": []
  }
 ],
 "metadata": {
  "kernelspec": {
   "display_name": "Python 3 (ipykernel)",
   "language": "python",
   "name": "python3"
  },
  "language_info": {
   "codemirror_mode": {
    "name": "ipython",
    "version": 3
   },
   "file_extension": ".py",
   "mimetype": "text/x-python",
   "name": "python",
   "nbconvert_exporter": "python",
   "pygments_lexer": "ipython3",
   "version": "3.10.8"
  }
 },
 "nbformat": 4,
 "nbformat_minor": 5
}
